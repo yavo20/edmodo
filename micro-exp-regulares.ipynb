{
 "cells": [
  {
   "cell_type": "markdown",
   "metadata": {},
   "source": [
    "## Alvaro Leon"
   ]
  },
  {
   "cell_type": "code",
   "execution_count": 2,
   "metadata": {
    "collapsed": false
   },
   "outputs": [
    {
     "name": "stdout",
     "output_type": "stream",
     "text": [
      "['ser', 'sufrir', 'sufrir', 'sin']\n",
      "['Ser']\n",
      "['Ser', 'ser', 'sufrir', 'sufrir', 'sin']\n"
     ]
    }
   ],
   "source": [
    "import re\n",
    "Cadena=\"¡Ser o no ser!, esa es la cuestión. ¿Qué es más digno para el alma noble, sufrir la porfía del rigor o rebelarse contra las desdichas?, ¿sufrir sin reaccionar o tomar las armas contra el mar de adversidades, oponiéndose a ellas?\"\n",
    "\n",
    "print (re.findall(r'\\bs[a-z]*', Cadena))\n",
    "print (re.findall(r'\\bS[a-z]*', Cadena))\n",
    "print (re.findall(r'\\b[[s|S][a-z]*', Cadena))"
   ]
  },
  {
   "cell_type": "code",
   "execution_count": null,
   "metadata": {
    "collapsed": true
   },
   "outputs": [],
   "source": []
  }
 ],
 "metadata": {
  "kernelspec": {
   "display_name": "Python 3",
   "language": "python",
   "name": "python3"
  },
  "language_info": {
   "codemirror_mode": {
    "name": "ipython",
    "version": 3
   },
   "file_extension": ".py",
   "mimetype": "text/x-python",
   "name": "python",
   "nbconvert_exporter": "python",
   "pygments_lexer": "ipython3",
   "version": "3.5.2"
  }
 },
 "nbformat": 4,
 "nbformat_minor": 1
}
